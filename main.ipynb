{
 "cells": [
  {
   "cell_type": "markdown",
   "metadata": {},
   "source": [
    "<h1>Observations</h1>\n",
    "<p>1. observation</p>\n",
    "<p>2. observation</p>\n",
    "<p>3. observation</p>"
   ]
  },
  {
   "cell_type": "code",
   "execution_count": 2,
   "metadata": {
    "collapsed": true
   },
   "outputs": [],
   "source": [
    "# Import Dependencies\n",
    "import numpy as np\n",
    "import matplotlib.pyplot as plt\n",
    "import pandas as pd\n",
    "import seaborn as sb"
   ]
  },
  {
   "cell_type": "code",
   "execution_count": 4,
   "metadata": {},
   "outputs": [],
   "source": [
    "# Import data into pandas from CSV\n",
    "city_data = 'raw_data/city_data.csv'\n",
    "ride_data = 'raw_data/ride_data.csv'\n",
    "\n",
    "city_data_df = pd.read_csv(city_data)\n",
    "ride_data_df = pd.read_csv(ride_data)"
   ]
  },
  {
   "cell_type": "code",
   "execution_count": 19,
   "metadata": {},
   "outputs": [
    {
     "name": "stdout",
     "output_type": "stream",
     "text": [
      "                city  driver_count   type\n",
      "0         Kelseyland            63  Urban\n",
      "1         Nguyenbury             8  Urban\n",
      "2       East Douglas            12  Urban\n",
      "3      West Dawnfurt            34  Urban\n",
      "4     Rodriguezburgh            52  Urban\n",
      "5  South Josephville             4  Urban\n",
      "6   West Sydneyhaven            70  Urban\n",
      "7        Travisville            37  Urban\n",
      "8        Torresshire            70  Urban\n",
      "9          Lisaville            66  Urban\n",
      "\n",
      "       driver_count\n",
      "count    126.000000\n",
      "mean      26.579365\n",
      "std       21.438415\n",
      "min        1.000000\n",
      "25%        9.000000\n",
      "50%       20.000000\n",
      "75%       43.000000\n",
      "max       73.000000\n",
      "\n",
      "city            object\n",
      "driver_count     int64\n",
      "type            object\n",
      "dtype: object\n",
      "\n",
      "city            126\n",
      "driver_count    126\n",
      "type            126\n",
      "dtype: int64\n",
      "\n",
      "Urban       66\n",
      "Suburban    42\n",
      "Rural       18\n",
      "Name: type, dtype: int64\n"
     ]
    }
   ],
   "source": [
    "# Quick look at city data\n",
    "print(city_data_df.head(10))\n",
    "print()\n",
    "print(city_data_df.describe())\n",
    "print()\n",
    "print(city_data_df.dtypes)\n",
    "print()\n",
    "print(city_data_df.count())\n",
    "print()\n",
    "print(city_data_df[\"type\"].value_counts())"
   ]
  },
  {
   "cell_type": "code",
   "execution_count": 15,
   "metadata": {},
   "outputs": [
    {
     "name": "stdout",
     "output_type": "stream",
     "text": [
      "            city                 date   fare        ride_id\n",
      "0       Sarabury  2016-01-16 13:49:27  38.35  5403689035038\n",
      "1      South Roy  2016-01-02 18:42:34  17.49  4036272335942\n",
      "2    Wiseborough  2016-01-21 17:35:29  44.18  3645042422587\n",
      "3    Spencertown  2016-07-31 14:53:22   6.87  2242596575892\n",
      "4     Nguyenbury  2016-07-09 04:42:44   6.28  1543057793673\n",
      "5    New Jeffrey  2016-02-22 18:36:25  36.01  9757888452346\n",
      "6  Port Johnstad  2016-06-07 02:39:58  17.15  4352278259335\n",
      "7      Jacobfort  2016-09-20 20:58:37  22.98  1500221409082\n",
      "8    Travisville  2016-01-15 17:32:02  27.39   850152768361\n",
      "9     Sandymouth  2016-11-16 07:27:00  21.61  2389035050524\n",
      "\n",
      "              fare       ride_id\n",
      "count  2375.000000  2.375000e+03\n",
      "mean     26.800552  4.865401e+12\n",
      "std      12.007118  2.899040e+12\n",
      "min       4.050000  2.238753e+09\n",
      "25%      17.235000  2.360004e+12\n",
      "50%      26.450000  4.821968e+12\n",
      "75%      36.635000  7.366161e+12\n",
      "max      59.650000  9.997901e+12\n",
      "\n",
      "city        object\n",
      "date        object\n",
      "fare       float64\n",
      "ride_id      int64\n",
      "dtype: object\n",
      "\n",
      "city       2375\n",
      "date       2375\n",
      "fare       2375\n",
      "ride_id    2375\n",
      "dtype: int64\n"
     ]
    }
   ],
   "source": [
    "# Quick look at city data\n",
    "print(ride_data_df.head(10))\n",
    "print()\n",
    "print(ride_data_df.describe())\n",
    "print()\n",
    "print(ride_data_df.dtypes)\n",
    "print()\n",
    "print(ride_data_df.count())"
   ]
  },
  {
   "cell_type": "code",
   "execution_count": 16,
   "metadata": {},
   "outputs": [
    {
     "ename": "NameError",
     "evalue": "name 'gyms' is not defined",
     "output_type": "error",
     "traceback": [
      "\u001b[1;31m---------------------------------------------------------------------------\u001b[0m",
      "\u001b[1;31mNameError\u001b[0m                                 Traceback (most recent call last)",
      "\u001b[1;32m<ipython-input-16-50c9e0da7ac2>\u001b[0m in \u001b[0;36m<module>\u001b[1;34m()\u001b[0m\n\u001b[1;32m----> 1\u001b[1;33m \u001b[0mx_axis\u001b[0m \u001b[1;33m=\u001b[0m \u001b[0mnp\u001b[0m\u001b[1;33m.\u001b[0m\u001b[0marange\u001b[0m\u001b[1;33m(\u001b[0m\u001b[1;36m0\u001b[0m\u001b[1;33m,\u001b[0m \u001b[0mlen\u001b[0m\u001b[1;33m(\u001b[0m\u001b[0mgyms\u001b[0m\u001b[1;33m)\u001b[0m\u001b[1;33m)\u001b[0m\u001b[1;33m\u001b[0m\u001b[0m\n\u001b[0m\u001b[0;32m      2\u001b[0m \u001b[0mtick_locations\u001b[0m \u001b[1;33m=\u001b[0m \u001b[1;33m[\u001b[0m\u001b[1;33m]\u001b[0m\u001b[1;33m\u001b[0m\u001b[0m\n\u001b[0;32m      3\u001b[0m \u001b[1;32mfor\u001b[0m \u001b[0mx\u001b[0m \u001b[1;32min\u001b[0m \u001b[0mx_axis\u001b[0m\u001b[1;33m:\u001b[0m\u001b[1;33m\u001b[0m\u001b[0m\n\u001b[0;32m      4\u001b[0m     \u001b[0mtick_locations\u001b[0m\u001b[1;33m.\u001b[0m\u001b[0mappend\u001b[0m\u001b[1;33m(\u001b[0m\u001b[0mx\u001b[0m \u001b[1;33m+\u001b[0m \u001b[1;36m0.4\u001b[0m\u001b[1;33m)\u001b[0m\u001b[1;33m\u001b[0m\u001b[0m\n\u001b[0;32m      5\u001b[0m \u001b[1;33m\u001b[0m\u001b[0m\n",
      "\u001b[1;31mNameError\u001b[0m: name 'gyms' is not defined"
     ]
    }
   ],
   "source": [
    "x_axis = np.arange(0, len(gyms))\n",
    "tick_locations = []\n",
    "for x in x_axis:\n",
    "    tick_locations.append(x + 0.4)\n",
    "\n",
    "plt.title(\"NYC Gym Popularity\")\n",
    "plt.xlabel(\"Gym Name\")\n",
    "plt.ylabel(\"Number of Members\")\n",
    "\n",
    "plt.xlim(-0.25, len(gyms))\n",
    "plt.ylim(0, max(members) + 5)\n",
    "\n",
    "plt.bar(x_axis, members, facecolor=\"red\", alpha=0.75, align=\"edge\")\n",
    "plt.xticks(tick_locations, gyms)\n",
    "plt.show()"
   ]
  },
  {
   "cell_type": "code",
   "execution_count": 4,
   "metadata": {
    "collapsed": true
   },
   "outputs": [],
   "source": [
    "# DATASET 2\n",
    "x_lim = 2 * np.pi\n",
    "x_axis = np.arange(0, x_lim, 0.1)\n",
    "sin = np.sin(x_axis)"
   ]
  },
  {
   "cell_type": "code",
   "execution_count": 5,
   "metadata": {},
   "outputs": [
    {
     "data": {
      "image/png": "[encoded data removed]",
      "text/plain": [
       "<matplotlib.figure.Figure at 0x2f74c09fd30>"
      ]
     },
     "metadata": {},
     "output_type": "display_data"
    }
   ],
   "source": [
    "plt.title(\"Sin from 0 to 2$\\pi$\")\n",
    "plt.xlabel(\"Real Numbers from 0 to 2$\\pi$\")\n",
    "plt.ylabel(\"sin(x)\")\n",
    "\n",
    "plt.hlines(0, 0, x_lim, alpha=0.2)\n",
    "plt.xlim(0, x_lim)\n",
    "plt.ylim(-1.25, 1.25)\n",
    "\n",
    "plt.plot(x_axis, sin, marker=\"o\", color=\"red\", linewidth=1)\n",
    "plt.show()"
   ]
  },
  {
   "cell_type": "code",
   "execution_count": 6,
   "metadata": {
    "collapsed": true
   },
   "outputs": [],
   "source": [
    "# DATASET 3\n",
    "gyms = [\"Crunch\", \"Planet Fitness\", \"NY Sports Club\", \"Rickie's Gym\"]\n",
    "members = [49, 92, 84, 53]\n",
    "colors = [\"yellowgreen\", \"red\", \"lightcoral\", \"lightskyblue\"]\n",
    "explode = (0, 0.05, 0, 0)"
   ]
  },
  {
   "cell_type": "code",
   "execution_count": 7,
   "metadata": {},
   "outputs": [
    {
     "data": {
      "image/png": "[encoded data removed]",
      "text/plain": [
       "<matplotlib.figure.Figure at 0x2f74c0a9208>"
      ]
     },
     "metadata": {},
     "output_type": "display_data"
    }
   ],
   "source": [
    "plt.title(\"NYC Gym Popularity\")\n",
    "plt.pie(members, explode=explode, labels=gyms, colors=colors,\n",
    "        autopct=\"%1.1f%%\", shadow=True, startangle=90)\n",
    "plt.axis(\"equal\")\n",
    "plt.show()"
   ]
  },
  {
   "cell_type": "code",
   "execution_count": 13,
   "metadata": {},
   "outputs": [
    {
     "name": "stdout",
     "output_type": "stream",
     "text": [
      "9.9\n"
     ]
    }
   ],
   "source": [
    "# DATASET 4\n",
    "x_axis = np.arange(0, 10, 0.1)\n",
    "times = []\n",
    "for x in x_axis:\n",
    "    times.append(x * x + np.random.randint(0, np.ceil(max(x_axis))))\n",
    "    \n",
    "print(max(x_axis))"
   ]
  },
  {
   "cell_type": "code",
   "execution_count": 9,
   "metadata": {},
   "outputs": [
    {
     "data": {
      "image/png": "[encoded data removed]",
      "text/plain": [
       "<matplotlib.figure.Figure at 0x2f74c506c50>"
      ]
     },
     "metadata": {},
     "output_type": "display_data"
    }
   ],
   "source": [
    "plt.title(\"Running Time of FakeSort for Sample Input Sizes\")\n",
    "plt.xlabel(\"Length of Input Array\")\n",
    "plt.ylabel(\"Time to Sort (s)\")\n",
    "\n",
    "plt.plot(x_axis, times, marker=\"o\", color=\"red\")\n",
    "plt.show()"
   ]
  },
  {
   "cell_type": "code",
   "execution_count": null,
   "metadata": {
    "collapsed": true
   },
   "outputs": [],
   "source": []
  }
 ],
 "metadata": {
  "kernelspec": {
   "display_name": "Python 3",
   "language": "python",
   "name": "python3"
  },
  "language_info": {
   "codemirror_mode": {
    "name": "ipython",
    "version": 3
   },
   "file_extension": ".py",
   "mimetype": "text/x-python",
   "name": "python",
   "nbconvert_exporter": "python",
   "pygments_lexer": "ipython3",
   "version": "3.6.3"
  }
 },
 "nbformat": 4,
 "nbformat_minor": 2
}
