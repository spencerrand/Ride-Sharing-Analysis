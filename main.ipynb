{
 "cells": [
  {
   "cell_type": "markdown",
   "metadata": {},
   "source": [
    "<h1>Observations</h1>\n",
    "<p>1. observation</p>\n",
    "<p>2. observation</p>\n",
    "<p>3. observation</p>"
   ]
  },
  {
   "cell_type": "code",
   "execution_count": 23,
   "metadata": {
    "collapsed": true
   },
   "outputs": [],
   "source": [
    "# Import Dependencies\n",
    "import numpy as np\n",
    "import matplotlib.pyplot as plt\n",
    "import pandas as pd\n",
    "import seaborn as sb"
   ]
  },
  {
   "cell_type": "code",
   "execution_count": 24,
   "metadata": {},
   "outputs": [],
   "source": [
    "# Import data into pandas from CSV\n",
    "city_data = 'raw_data/city_data.csv'\n",
    "ride_data = 'raw_data/ride_data.csv'\n",
    "\n",
    "city_data_df = pd.read_csv(city_data)\n",
    "ride_data_df = pd.read_csv(ride_data)"
   ]
  },
  {
   "cell_type": "code",
   "execution_count": 25,
   "metadata": {},
   "outputs": [
    {
     "name": "stdout",
     "output_type": "stream",
     "text": [
      "                city  driver_count   type\n",
      "0         Kelseyland            63  Urban\n",
      "1         Nguyenbury             8  Urban\n",
      "2       East Douglas            12  Urban\n",
      "3      West Dawnfurt            34  Urban\n",
      "4     Rodriguezburgh            52  Urban\n",
      "5  South Josephville             4  Urban\n",
      "6   West Sydneyhaven            70  Urban\n",
      "7        Travisville            37  Urban\n",
      "8        Torresshire            70  Urban\n",
      "9          Lisaville            66  Urban\n",
      "\n",
      "       driver_count\n",
      "count    126.000000\n",
      "mean      26.579365\n",
      "std       21.438415\n",
      "min        1.000000\n",
      "25%        9.000000\n",
      "50%       20.000000\n",
      "75%       43.000000\n",
      "max       73.000000\n",
      "\n",
      "city            object\n",
      "driver_count     int64\n",
      "type            object\n",
      "dtype: object\n",
      "\n",
      "city            126\n",
      "driver_count    126\n",
      "type            126\n",
      "dtype: int64\n",
      "\n",
      "Urban       66\n",
      "Suburban    42\n",
      "Rural       18\n",
      "Name: type, dtype: int64\n"
     ]
    }
   ],
   "source": [
    "# Summary statistics for city data\n",
    "print(city_data_df.head(10))\n",
    "print()\n",
    "print(city_data_df.describe())\n",
    "print()\n",
    "print(city_data_df.dtypes)\n",
    "print()\n",
    "print(city_data_df.count())\n",
    "print()\n",
    "print(city_data_df[\"type\"].value_counts())"
   ]
  },
  {
   "cell_type": "code",
   "execution_count": 26,
   "metadata": {},
   "outputs": [
    {
     "name": "stdout",
     "output_type": "stream",
     "text": [
      "            city                 date   fare        ride_id\n",
      "0       Sarabury  2016-01-16 13:49:27  38.35  5403689035038\n",
      "1      South Roy  2016-01-02 18:42:34  17.49  4036272335942\n",
      "2    Wiseborough  2016-01-21 17:35:29  44.18  3645042422587\n",
      "3    Spencertown  2016-07-31 14:53:22   6.87  2242596575892\n",
      "4     Nguyenbury  2016-07-09 04:42:44   6.28  1543057793673\n",
      "5    New Jeffrey  2016-02-22 18:36:25  36.01  9757888452346\n",
      "6  Port Johnstad  2016-06-07 02:39:58  17.15  4352278259335\n",
      "7      Jacobfort  2016-09-20 20:58:37  22.98  1500221409082\n",
      "8    Travisville  2016-01-15 17:32:02  27.39   850152768361\n",
      "9     Sandymouth  2016-11-16 07:27:00  21.61  2389035050524\n",
      "\n",
      "              fare       ride_id\n",
      "count  2375.000000  2.375000e+03\n",
      "mean     26.800552  4.865401e+12\n",
      "std      12.007118  2.899040e+12\n",
      "min       4.050000  2.238753e+09\n",
      "25%      17.235000  2.360004e+12\n",
      "50%      26.450000  4.821968e+12\n",
      "75%      36.635000  7.366161e+12\n",
      "max      59.650000  9.997901e+12\n",
      "\n",
      "city        object\n",
      "date        object\n",
      "fare       float64\n",
      "ride_id      int64\n",
      "dtype: object\n",
      "\n",
      "city       2375\n",
      "date       2375\n",
      "fare       2375\n",
      "ride_id    2375\n",
      "dtype: int64\n"
     ]
    }
   ],
   "source": [
    "# Summary statistics for ride data\n",
    "print(ride_data_df.head(10))\n",
    "print()\n",
    "print(ride_data_df.describe())\n",
    "print()\n",
    "print(ride_data_df.dtypes)\n",
    "print()\n",
    "print(ride_data_df.count())"
   ]
  },
  {
   "cell_type": "code",
   "execution_count": 43,
   "metadata": {},
   "outputs": [
    {
     "name": "stdout",
     "output_type": "stream",
     "text": [
      "         city  driver_count   type                 date   fare        ride_id\n",
      "0  Kelseyland            63  Urban  2016-08-19 04:27:52   5.51  6246006544795\n",
      "1  Kelseyland            63  Urban  2016-04-17 06:59:50   5.54  7466473222333\n",
      "2  Kelseyland            63  Urban  2016-05-04 15:06:07  30.54  2140501382736\n",
      "3  Kelseyland            63  Urban  2016-01-25 20:44:56  12.08  1896987891309\n",
      "4  Kelseyland            63  Urban  2016-08-09 18:19:47  17.91  8784212854829\n",
      "5  Kelseyland            63  Urban  2016-10-24 15:15:46  33.56  4797969661996\n",
      "6  Kelseyland            63  Urban  2016-06-06 13:54:23  20.81  9811478565448\n",
      "7  Kelseyland            63  Urban  2016-08-10 07:02:40  44.53  1563171128434\n",
      "8  Kelseyland            63  Urban  2016-07-05 17:37:13  29.02  6897992353955\n",
      "9  Kelseyland            63  Urban  2016-04-25 02:18:31  20.05  1148374505062\n",
      "\n",
      "       driver_count         fare       ride_id\n",
      "count    2407.00000  2407.000000  2.407000e+03\n",
      "mean       31.14167    26.867104  4.856048e+12\n",
      "std        22.05840    12.007238  2.898402e+12\n",
      "min         1.00000     4.050000  2.238753e+09\n",
      "25%        12.00000    17.320000  2.354637e+12\n",
      "50%        24.00000    26.490000  4.804713e+12\n",
      "75%        51.00000    36.710000  7.356325e+12\n",
      "max        73.00000    59.650000  9.997901e+12\n",
      "\n",
      "city             object\n",
      "driver_count      int64\n",
      "type             object\n",
      "date             object\n",
      "fare            float64\n",
      "ride_id           int64\n",
      "dtype: object\n",
      "\n",
      "city            2407\n",
      "driver_count    2407\n",
      "type            2407\n",
      "date            2407\n",
      "fare            2407\n",
      "ride_id         2407\n",
      "dtype: int64\n",
      "Urban       1625\n",
      "Suburban     657\n",
      "Rural        125\n",
      "Name: type, dtype: int64\n"
     ]
    }
   ],
   "source": [
    "# This section combines the two dataframes and prints out summary statistics\n",
    "combined_df = pd.merge(city_data_df, ride_data_df, how='outer', on='city')\n",
    "\n",
    "print(combined_df.head(10))\n",
    "print()\n",
    "print(combined_df.describe())\n",
    "print()\n",
    "print(combined_df.dtypes)\n",
    "print()\n",
    "print(combined_df.count())"
   ]
  },
  {
   "cell_type": "markdown",
   "metadata": {},
   "source": [
    "<h1>Total Fares by City Type</h1>"
   ]
  },
  {
   "cell_type": "code",
   "execution_count": 57,
   "metadata": {},
   "outputs": [
    {
     "data": {
      "image/png": "[encoded data removed]",
      "text/plain": [
       "<matplotlib.figure.Figure at 0x21383a90dd8>"
      ]
     },
     "metadata": {},
     "output_type": "display_data"
    }
   ],
   "source": [
    "# This section displays a pie chart of fares by city type\n",
    "\n",
    "# Group the combined dataframe by type\n",
    "type_group = combined_df.groupby(\"type\")\n",
    "\n",
    "# Sum up fares by type\n",
    "ride_total_by_type = type_group[\"fare\"].sum()\n",
    "\n",
    "pie_colors = [\"gold\", \"lightskyblue\",\"lightcoral\"]\n",
    "   \n",
    "# Create a pie chart based upon the trip duration of that single bike\n",
    "ride_pie = ride_total_by_type.plot(kind=\"pie\", colors=pie_colors, title=\"Fares by City Type\") \n",
    "\n",
    "plt.show()"
   ]
  },
  {
   "cell_type": "markdown",
   "metadata": {},
   "source": [
    "<h1>Total Rides by City Type</h1>"
   ]
  },
  {
   "cell_type": "code",
   "execution_count": 56,
   "metadata": {},
   "outputs": [
    {
     "data": {
      "image/png": "[encoded data removed]",
      "text/plain": [
       "<matplotlib.figure.Figure at 0x21383a90b00>"
      ]
     },
     "metadata": {},
     "output_type": "display_data"
    }
   ],
   "source": [
    "# This section displays a pie chart of rides by city type\n",
    "\n",
    "# Sum up fares by type\n",
    "fare_total_by_type = type_group[\"ride_id\"].count()\n",
    "   \n",
    "# Create a pie chart based upon the trip duration of that single bike\n",
    "type_pie = fare_total_by_type.plot(kind=\"pie\", colors=pie_colors, title=\"Fares by City Type\") \n",
    "\n",
    "plt.show()"
   ]
  },
  {
   "cell_type": "markdown",
   "metadata": {},
   "source": [
    "<h1>Total Drivers by City Type</h1>"
   ]
  },
  {
   "cell_type": "code",
   "execution_count": null,
   "metadata": {
    "collapsed": true
   },
   "outputs": [],
   "source": []
  },
  {
   "cell_type": "code",
   "execution_count": 7,
   "metadata": {},
   "outputs": [
    {
     "data": {
      "image/png": "[encoded data removed]",
      "text/plain": [
       "<matplotlib.figure.Figure at 0x2f74c0a9208>"
      ]
     },
     "metadata": {},
     "output_type": "display_data"
    }
   ],
   "source": [
    "plt.title(\"NYC Gym Popularity\")\n",
    "plt.pie(members, explode=explode, labels=gyms, colors=colors,\n",
    "        autopct=\"%1.1f%%\", shadow=True, startangle=90)\n",
    "plt.axis(\"equal\")\n",
    "plt.show()"
   ]
  }
 ],
 "metadata": {
  "kernelspec": {
   "display_name": "Python 3",
   "language": "python",
   "name": "python3"
  },
  "language_info": {
   "codemirror_mode": {
    "name": "ipython",
    "version": 3
   },
   "file_extension": ".py",
   "mimetype": "text/x-python",
   "name": "python",
   "nbconvert_exporter": "python",
   "pygments_lexer": "ipython3",
   "version": "3.6.3"
  }
 },
 "nbformat": 4,
 "nbformat_minor": 2
}
