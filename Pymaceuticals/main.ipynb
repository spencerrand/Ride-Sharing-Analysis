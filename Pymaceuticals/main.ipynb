{
 "cells": [
  {
   "cell_type": "markdown",
   "metadata": {},
   "source": [
    "<h1>Observations</h1>\n",
    "<p>1. observation</p>\n",
    "<p>2. observation</p>\n",
    "<p>3. observation</p>"
   ]
  },
  {
   "cell_type": "code",
   "execution_count": 14,
   "metadata": {
    "collapsed": true
   },
   "outputs": [],
   "source": [
    "# Import Dependencies\n",
    "import matplotlib.pyplot as plt\n",
    "import pandas as pd\n",
    "import seaborn as sns\n",
    "from scipy.stats import sem\n",
    "\n",
    "# Set the seaborn chart style\n",
    "sns.set()\n",
    "\n",
    "# Increase the size of the bubble charts\n",
    "plt.rcParams[\"figure.figsize\"] = [10,8]"
   ]
  },
  {
   "cell_type": "code",
   "execution_count": 15,
   "metadata": {
    "collapsed": true
   },
   "outputs": [],
   "source": [
    "# Import data into pandas from CSV\n",
    "trial_data = 'raw_data/clinicaltrial_data.csv'\n",
    "mouse_data = 'raw_data/mouse_drug_data.csv'\n",
    "\n",
    "trial_data_df = pd.read_csv(trial_data)\n",
    "mouse_data_df = pd.read_csv(mouse_data)"
   ]
  },
  {
   "cell_type": "code",
   "execution_count": 16,
   "metadata": {},
   "outputs": [
    {
     "name": "stdout",
     "output_type": "stream",
     "text": [
      "  Mouse ID  Timepoint  Tumor Volume (mm3)  Metastatic Sites\n",
      "0     b128          0                45.0                 0\n",
      "1     f932          0                45.0                 0\n",
      "2     g107          0                45.0                 0\n",
      "3     a457          0                45.0                 0\n",
      "4     c819          0                45.0                 0\n",
      "5     h246          0                45.0                 0\n",
      "6     p189          0                45.0                 0\n",
      "7     n923          0                45.0                 0\n",
      "8     q119          0                45.0                 0\n",
      "9     f993          0                45.0                 0\n",
      "\n",
      "         Timepoint  Tumor Volume (mm3)  Metastatic Sites\n",
      "count  1893.000000         1893.000000       1893.000000\n",
      "mean     19.572108           50.455258          1.021659\n",
      "std      14.079460            8.888824          1.137974\n",
      "min       0.000000           22.050126          0.000000\n",
      "25%       5.000000           45.000000          0.000000\n",
      "50%      20.000000           48.957919          1.000000\n",
      "75%      30.000000           56.292200          2.000000\n",
      "max      45.000000           78.567014          4.000000\n",
      "\n",
      "Mouse ID               object\n",
      "Timepoint               int64\n",
      "Tumor Volume (mm3)    float64\n",
      "Metastatic Sites        int64\n",
      "dtype: object\n",
      "\n",
      "Mouse ID              1893\n",
      "Timepoint             1893\n",
      "Tumor Volume (mm3)    1893\n",
      "Metastatic Sites      1893\n",
      "dtype: int64\n"
     ]
    }
   ],
   "source": [
    "# Summary statistics for city data\n",
    "print(trial_data_df.head(10))\n",
    "print()\n",
    "print(trial_data_df.describe())\n",
    "print()\n",
    "print(trial_data_df.dtypes)\n",
    "print()\n",
    "print(trial_data_df.count())"
   ]
  },
  {
   "cell_type": "code",
   "execution_count": 17,
   "metadata": {},
   "outputs": [
    {
     "name": "stdout",
     "output_type": "stream",
     "text": [
      "  Mouse ID      Drug\n",
      "0     f234  Stelasyn\n",
      "1     x402  Stelasyn\n",
      "2     a492  Stelasyn\n",
      "3     w540  Stelasyn\n",
      "4     v764  Stelasyn\n",
      "5     o848  Stelasyn\n",
      "6     z314  Stelasyn\n",
      "7     g989  Stelasyn\n",
      "8     m269  Stelasyn\n",
      "9     a963  Stelasyn\n",
      "\n",
      "       Mouse ID       Drug\n",
      "count       250        250\n",
      "unique      249         10\n",
      "top        g989  Infubinol\n",
      "freq          2         25\n",
      "\n",
      "Mouse ID    object\n",
      "Drug        object\n",
      "dtype: object\n",
      "\n",
      "Mouse ID    250\n",
      "Drug        250\n",
      "dtype: int64\n"
     ]
    }
   ],
   "source": [
    "# Summary statistics for ride data\n",
    "print(mouse_data_df.head(10))\n",
    "print()\n",
    "print(mouse_data_df.describe())\n",
    "print()\n",
    "print(mouse_data_df.dtypes)\n",
    "print()\n",
    "print(mouse_data_df.count())"
   ]
  },
  {
   "cell_type": "code",
   "execution_count": 18,
   "metadata": {},
   "outputs": [
    {
     "name": "stdout",
     "output_type": "stream",
     "text": [
      "  Mouse ID  Timepoint  Tumor Volume (mm3)  Metastatic Sites       Drug\n",
      "0     b128          0           45.000000                 0  Capomulin\n",
      "1     b128          5           45.651331                 0  Capomulin\n",
      "2     b128         10           43.270852                 0  Capomulin\n",
      "3     b128         15           43.784893                 0  Capomulin\n",
      "4     b128         20           42.731552                 0  Capomulin\n",
      "5     b128         25           43.262145                 1  Capomulin\n",
      "6     b128         30           40.605335                 1  Capomulin\n",
      "7     b128         35           37.967644                 1  Capomulin\n",
      "8     b128         40           38.379726                 2  Capomulin\n",
      "9     b128         45           38.982878                 2  Capomulin\n",
      "\n",
      "         Timepoint  Tumor Volume (mm3)  Metastatic Sites\n",
      "count  1906.000000         1906.000000       1906.000000\n",
      "mean     19.538300           50.468120          1.018363\n",
      "std      14.064786            8.869571          1.135991\n",
      "min       0.000000           22.050126          0.000000\n",
      "25%       5.000000           45.000000          0.000000\n",
      "50%      20.000000           48.991921          1.000000\n",
      "75%      30.000000           56.288484          2.000000\n",
      "max      45.000000           78.567014          4.000000\n",
      "\n",
      "Mouse ID               object\n",
      "Timepoint               int64\n",
      "Tumor Volume (mm3)    float64\n",
      "Metastatic Sites        int64\n",
      "Drug                   object\n",
      "dtype: object\n",
      "\n",
      "Mouse ID              1906\n",
      "Timepoint             1906\n",
      "Tumor Volume (mm3)    1906\n",
      "Metastatic Sites      1906\n",
      "Drug                  1906\n",
      "dtype: int64\n"
     ]
    }
   ],
   "source": [
    "# Merge the two dataframes and prints out summary statistics\n",
    "combined_df = pd.merge(trial_data_df, mouse_data_df, how='outer', on='Mouse ID')\n",
    "\n",
    "print(combined_df.head(10))\n",
    "print()\n",
    "print(combined_df.describe())\n",
    "print()\n",
    "print(combined_df.dtypes)\n",
    "print()\n",
    "print(combined_df.count())"
   ]
  },
  {
   "cell_type": "code",
   "execution_count": 19,
   "metadata": {},
   "outputs": [
    {
     "name": "stderr",
     "output_type": "stream",
     "text": [
      "C:\\Users\\spenc\\Anaconda3\\lib\\site-packages\\scipy\\stats\\stats.py:253: RuntimeWarning: The input array could not be properly checked for nan values. nan values will be ignored.\n",
      "  \"values. nan values will be ignored.\", RuntimeWarning)\n"
     ]
    },
    {
     "ename": "TypeError",
     "evalue": "unsupported operand type(s) for /: 'tuple' and 'int'",
     "output_type": "error",
     "traceback": [
      "\u001b[1;31m---------------------------------------------------------------------------\u001b[0m",
      "\u001b[1;31mTypeError\u001b[0m                                 Traceback (most recent call last)",
      "\u001b[1;32m<ipython-input-19-8a8b87a7777b>\u001b[0m in \u001b[0;36m<module>\u001b[1;34m()\u001b[0m\n\u001b[0;32m      6\u001b[0m \u001b[1;31m#means = [np.mean(s) for s in samples]\u001b[0m\u001b[1;33m\u001b[0m\u001b[1;33m\u001b[0m\u001b[0m\n\u001b[0;32m      7\u001b[0m \u001b[1;31m#standard_errors = [sem(s) for s in samples]\u001b[0m\u001b[1;33m\u001b[0m\u001b[1;33m\u001b[0m\u001b[0m\n\u001b[1;32m----> 8\u001b[1;33m \u001b[0mstandard_errors\u001b[0m \u001b[1;33m=\u001b[0m \u001b[1;33m[\u001b[0m\u001b[0msem\u001b[0m\u001b[1;33m(\u001b[0m\u001b[0mdrug_time_group\u001b[0m\u001b[1;33m[\u001b[0m\u001b[1;34m\"Tumor Volume (mm3)\"\u001b[0m\u001b[1;33m]\u001b[0m\u001b[1;33m)\u001b[0m\u001b[1;33m]\u001b[0m\u001b[1;33m\u001b[0m\u001b[0m\n\u001b[0m\u001b[0;32m      9\u001b[0m \u001b[0mx_axis\u001b[0m \u001b[1;33m=\u001b[0m \u001b[0mnp\u001b[0m\u001b[1;33m.\u001b[0m\u001b[0marange\u001b[0m\u001b[1;33m(\u001b[0m\u001b[1;36m0\u001b[0m\u001b[1;33m,\u001b[0m \u001b[0mlen\u001b[0m\u001b[1;33m(\u001b[0m\u001b[0mdrug_time_group\u001b[0m\u001b[1;33m)\u001b[0m\u001b[1;33m,\u001b[0m \u001b[1;36m1\u001b[0m\u001b[1;33m)\u001b[0m\u001b[1;33m\u001b[0m\u001b[0m\n\u001b[0;32m     10\u001b[0m \u001b[1;33m\u001b[0m\u001b[0m\n",
      "\u001b[1;32m~\\Anaconda3\\lib\\site-packages\\scipy\\stats\\stats.py\u001b[0m in \u001b[0;36msem\u001b[1;34m(a, axis, ddof, nan_policy)\u001b[0m\n\u001b[0;32m   2182\u001b[0m \u001b[1;33m\u001b[0m\u001b[0m\n\u001b[0;32m   2183\u001b[0m     \u001b[0mn\u001b[0m \u001b[1;33m=\u001b[0m \u001b[0ma\u001b[0m\u001b[1;33m.\u001b[0m\u001b[0mshape\u001b[0m\u001b[1;33m[\u001b[0m\u001b[0maxis\u001b[0m\u001b[1;33m]\u001b[0m\u001b[1;33m\u001b[0m\u001b[0m\n\u001b[1;32m-> 2184\u001b[1;33m     \u001b[0ms\u001b[0m \u001b[1;33m=\u001b[0m \u001b[0mnp\u001b[0m\u001b[1;33m.\u001b[0m\u001b[0mstd\u001b[0m\u001b[1;33m(\u001b[0m\u001b[0ma\u001b[0m\u001b[1;33m,\u001b[0m \u001b[0maxis\u001b[0m\u001b[1;33m=\u001b[0m\u001b[0maxis\u001b[0m\u001b[1;33m,\u001b[0m \u001b[0mddof\u001b[0m\u001b[1;33m=\u001b[0m\u001b[0mddof\u001b[0m\u001b[1;33m)\u001b[0m \u001b[1;33m/\u001b[0m \u001b[0mnp\u001b[0m\u001b[1;33m.\u001b[0m\u001b[0msqrt\u001b[0m\u001b[1;33m(\u001b[0m\u001b[0mn\u001b[0m\u001b[1;33m)\u001b[0m\u001b[1;33m\u001b[0m\u001b[0m\n\u001b[0m\u001b[0;32m   2185\u001b[0m     \u001b[1;32mreturn\u001b[0m \u001b[0ms\u001b[0m\u001b[1;33m\u001b[0m\u001b[0m\n\u001b[0;32m   2186\u001b[0m \u001b[1;33m\u001b[0m\u001b[0m\n",
      "\u001b[1;32m~\\Anaconda3\\lib\\site-packages\\numpy\\core\\fromnumeric.py\u001b[0m in \u001b[0;36mstd\u001b[1;34m(a, axis, dtype, out, ddof, keepdims)\u001b[0m\n\u001b[0;32m   3025\u001b[0m \u001b[1;33m\u001b[0m\u001b[0m\n\u001b[0;32m   3026\u001b[0m     return _methods._std(a, axis=axis, dtype=dtype, out=out, ddof=ddof,\n\u001b[1;32m-> 3027\u001b[1;33m                          **kwargs)\n\u001b[0m\u001b[0;32m   3028\u001b[0m \u001b[1;33m\u001b[0m\u001b[0m\n\u001b[0;32m   3029\u001b[0m \u001b[1;33m\u001b[0m\u001b[0m\n",
      "\u001b[1;32m~\\Anaconda3\\lib\\site-packages\\numpy\\core\\_methods.py\u001b[0m in \u001b[0;36m_std\u001b[1;34m(a, axis, dtype, out, ddof, keepdims)\u001b[0m\n\u001b[0;32m    133\u001b[0m \u001b[1;32mdef\u001b[0m \u001b[0m_std\u001b[0m\u001b[1;33m(\u001b[0m\u001b[0ma\u001b[0m\u001b[1;33m,\u001b[0m \u001b[0maxis\u001b[0m\u001b[1;33m=\u001b[0m\u001b[1;32mNone\u001b[0m\u001b[1;33m,\u001b[0m \u001b[0mdtype\u001b[0m\u001b[1;33m=\u001b[0m\u001b[1;32mNone\u001b[0m\u001b[1;33m,\u001b[0m \u001b[0mout\u001b[0m\u001b[1;33m=\u001b[0m\u001b[1;32mNone\u001b[0m\u001b[1;33m,\u001b[0m \u001b[0mddof\u001b[0m\u001b[1;33m=\u001b[0m\u001b[1;36m0\u001b[0m\u001b[1;33m,\u001b[0m \u001b[0mkeepdims\u001b[0m\u001b[1;33m=\u001b[0m\u001b[1;32mFalse\u001b[0m\u001b[1;33m)\u001b[0m\u001b[1;33m:\u001b[0m\u001b[1;33m\u001b[0m\u001b[0m\n\u001b[0;32m    134\u001b[0m     ret = _var(a, axis=axis, dtype=dtype, out=out, ddof=ddof,\n\u001b[1;32m--> 135\u001b[1;33m                keepdims=keepdims)\n\u001b[0m\u001b[0;32m    136\u001b[0m \u001b[1;33m\u001b[0m\u001b[0m\n\u001b[0;32m    137\u001b[0m     \u001b[1;32mif\u001b[0m \u001b[0misinstance\u001b[0m\u001b[1;33m(\u001b[0m\u001b[0mret\u001b[0m\u001b[1;33m,\u001b[0m \u001b[0mmu\u001b[0m\u001b[1;33m.\u001b[0m\u001b[0mndarray\u001b[0m\u001b[1;33m)\u001b[0m\u001b[1;33m:\u001b[0m\u001b[1;33m\u001b[0m\u001b[0m\n",
      "\u001b[1;32m~\\Anaconda3\\lib\\site-packages\\numpy\\core\\_methods.py\u001b[0m in \u001b[0;36m_var\u001b[1;34m(a, axis, dtype, out, ddof, keepdims)\u001b[0m\n\u001b[0;32m    103\u001b[0m     \u001b[1;32mif\u001b[0m \u001b[0misinstance\u001b[0m\u001b[1;33m(\u001b[0m\u001b[0marrmean\u001b[0m\u001b[1;33m,\u001b[0m \u001b[0mmu\u001b[0m\u001b[1;33m.\u001b[0m\u001b[0mndarray\u001b[0m\u001b[1;33m)\u001b[0m\u001b[1;33m:\u001b[0m\u001b[1;33m\u001b[0m\u001b[0m\n\u001b[0;32m    104\u001b[0m         arrmean = um.true_divide(\n\u001b[1;32m--> 105\u001b[1;33m                 arrmean, rcount, out=arrmean, casting='unsafe', subok=False)\n\u001b[0m\u001b[0;32m    106\u001b[0m     \u001b[1;32melse\u001b[0m\u001b[1;33m:\u001b[0m\u001b[1;33m\u001b[0m\u001b[0m\n\u001b[0;32m    107\u001b[0m         \u001b[0marrmean\u001b[0m \u001b[1;33m=\u001b[0m \u001b[0marrmean\u001b[0m\u001b[1;33m.\u001b[0m\u001b[0mdtype\u001b[0m\u001b[1;33m.\u001b[0m\u001b[0mtype\u001b[0m\u001b[1;33m(\u001b[0m\u001b[0marrmean\u001b[0m \u001b[1;33m/\u001b[0m \u001b[0mrcount\u001b[0m\u001b[1;33m)\u001b[0m\u001b[1;33m\u001b[0m\u001b[0m\n",
      "\u001b[1;31mTypeError\u001b[0m: unsupported operand type(s) for /: 'tuple' and 'int'"
     ]
    }
   ],
   "source": [
    "# Group the rural dataframe by city\n",
    "drug_time_group = combined_df.groupby([\"Drug\",\"Timepoint\"])\n",
    " \n",
    "avg_volume_by_drug = [drug_time_group[\"Tumor Volume (mm3)\"].mean()]\n",
    "\n",
    "#means = [np.mean(s) for s in samples]\n",
    "#standard_errors = [sem(s) for s in samples]\n",
    "standard_errors = [sem(drug_time_group[\"Tumor Volume (mm3)\"])]\n",
    "x_axis = np.arange(0, len(drug_time_group), 1)\n",
    "\n",
    "print(drug_time_group[\"Tumor Volume (mm3)\"])\n",
    "\n",
    "plt.errorbar(x_axis, avg_volume_by_drug, standard_errors, fmt=\"x\")\n",
    "\n",
    "plt.show()\n",
    "\n",
    "# Create bubble plots\n",
    "#plt.scatter(rural_total_rides_by_city, rural_avg_fare_by_city, marker=\"o\", facecolors='gold', edgecolors=\"black\")\n",
    "\n",
    "# Create a title, x label, and y label\n",
    "#plt.title(\"Pyber Ride Sharing Data\", fontsize=20, fontweight=\"bold\")\n",
    "#plt.xlabel(\"# of Rides Per City\", fontsize=14)\n",
    "#plt.ylabel(\"Average Fare Per City ($)\", fontsize=14)\n",
    "\n",
    "# Set size of x and y tick labels\n",
    "#plt.tick_params(labelsize=12)\n",
    "\n",
    "# Add a legend to the chart\n",
    "#plt.legend(('Rural','Suburban','Urban'),loc='best', prop={'size': 14})\n",
    "\n",
    "# Set x and y limits\n",
    "#plt.xlim(0, max(rural_total_rides_by_city.max(), urban_total_rides_by_city.max(), suburban_total_rides_by_city.max())+5)\n",
    "#plt.ylim(15, max(rural_avg_fare_by_city.max(), urban_avg_fare_by_city.max(), suburban_avg_fare_by_city.max())+5)"
   ]
  },
  {
   "cell_type": "code",
   "execution_count": null,
   "metadata": {
    "collapsed": true
   },
   "outputs": [],
   "source": []
  }
 ],
 "metadata": {
  "kernelspec": {
   "display_name": "Python 3",
   "language": "python",
   "name": "python3"
  },
  "language_info": {
   "codemirror_mode": {
    "name": "ipython",
    "version": 3
   },
   "file_extension": ".py",
   "mimetype": "text/x-python",
   "name": "python",
   "nbconvert_exporter": "python",
   "pygments_lexer": "ipython3",
   "version": "3.6.3"
  }
 },
 "nbformat": 4,
 "nbformat_minor": 2
}
