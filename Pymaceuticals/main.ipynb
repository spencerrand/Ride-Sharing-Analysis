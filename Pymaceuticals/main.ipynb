{
 "cells": [
  {
   "cell_type": "markdown",
   "metadata": {},
   "source": [
    "<h1>Observations</h1>\n",
    "<p>1. observation</p>\n",
    "<p>2. observation</p>\n",
    "<p>3. observation</p>"
   ]
  },
  {
   "cell_type": "code",
   "execution_count": 4,
   "metadata": {
    "collapsed": true
   },
   "outputs": [],
   "source": [
    "# Import Dependencies\n",
    "import matplotlib.pyplot as plt\n",
    "import pandas as pd\n",
    "import seaborn as sns"
   ]
  },
  {
   "cell_type": "code",
   "execution_count": 5,
   "metadata": {
    "collapsed": true
   },
   "outputs": [],
   "source": [
    "# Import data into pandas from CSV\n",
    "trial_data = 'raw_data/clinicaltrial_data.csv'\n",
    "mouse_data = 'raw_data/mouse_drug_data.csv'\n",
    "\n",
    "trial_data_df = pd.read_csv(trial_data)\n",
    "mouse_data_df = pd.read_csv(mouse_data)"
   ]
  },
  {
   "cell_type": "code",
   "execution_count": 7,
   "metadata": {},
   "outputs": [
    {
     "name": "stdout",
     "output_type": "stream",
     "text": [
      "  Mouse ID  Timepoint  Tumor Volume (mm3)  Metastatic Sites\n",
      "0     b128          0                45.0                 0\n",
      "1     f932          0                45.0                 0\n",
      "2     g107          0                45.0                 0\n",
      "3     a457          0                45.0                 0\n",
      "4     c819          0                45.0                 0\n",
      "5     h246          0                45.0                 0\n",
      "6     p189          0                45.0                 0\n",
      "7     n923          0                45.0                 0\n",
      "8     q119          0                45.0                 0\n",
      "9     f993          0                45.0                 0\n",
      "\n",
      "         Timepoint  Tumor Volume (mm3)  Metastatic Sites\n",
      "count  1893.000000         1893.000000       1893.000000\n",
      "mean     19.572108           50.455258          1.021659\n",
      "std      14.079460            8.888824          1.137974\n",
      "min       0.000000           22.050126          0.000000\n",
      "25%       5.000000           45.000000          0.000000\n",
      "50%      20.000000           48.957919          1.000000\n",
      "75%      30.000000           56.292200          2.000000\n",
      "max      45.000000           78.567014          4.000000\n",
      "\n",
      "Mouse ID               object\n",
      "Timepoint               int64\n",
      "Tumor Volume (mm3)    float64\n",
      "Metastatic Sites        int64\n",
      "dtype: object\n",
      "\n",
      "Mouse ID              1893\n",
      "Timepoint             1893\n",
      "Tumor Volume (mm3)    1893\n",
      "Metastatic Sites      1893\n",
      "dtype: int64\n"
     ]
    }
   ],
   "source": [
    "# Summary statistics for city data\n",
    "print(trial_data_df.head(10))\n",
    "print()\n",
    "print(trial_data_df.describe())\n",
    "print()\n",
    "print(trial_data_df.dtypes)\n",
    "print()\n",
    "print(trial_data_df.count())"
   ]
  },
  {
   "cell_type": "code",
   "execution_count": 8,
   "metadata": {},
   "outputs": [
    {
     "name": "stdout",
     "output_type": "stream",
     "text": [
      "  Mouse ID      Drug\n",
      "0     f234  Stelasyn\n",
      "1     x402  Stelasyn\n",
      "2     a492  Stelasyn\n",
      "3     w540  Stelasyn\n",
      "4     v764  Stelasyn\n",
      "5     o848  Stelasyn\n",
      "6     z314  Stelasyn\n",
      "7     g989  Stelasyn\n",
      "8     m269  Stelasyn\n",
      "9     a963  Stelasyn\n",
      "\n",
      "       Mouse ID       Drug\n",
      "count       250        250\n",
      "unique      249         10\n",
      "top        g989  Zoniferol\n",
      "freq          2         25\n",
      "\n",
      "Mouse ID    object\n",
      "Drug        object\n",
      "dtype: object\n",
      "\n",
      "Mouse ID    250\n",
      "Drug        250\n",
      "dtype: int64\n"
     ]
    }
   ],
   "source": [
    "# Summary statistics for ride data\n",
    "print(mouse_data_df.head(10))\n",
    "print()\n",
    "print(mouse_data_df.describe())\n",
    "print()\n",
    "print(mouse_data_df.dtypes)\n",
    "print()\n",
    "print(mouse_data_df.count())"
   ]
  },
  {
   "cell_type": "code",
   "execution_count": 9,
   "metadata": {},
   "outputs": [
    {
     "name": "stdout",
     "output_type": "stream",
     "text": [
      "  Mouse ID  Timepoint  Tumor Volume (mm3)  Metastatic Sites       Drug\n",
      "0     b128          0           45.000000                 0  Capomulin\n",
      "1     b128          5           45.651331                 0  Capomulin\n",
      "2     b128         10           43.270852                 0  Capomulin\n",
      "3     b128         15           43.784893                 0  Capomulin\n",
      "4     b128         20           42.731552                 0  Capomulin\n",
      "5     b128         25           43.262145                 1  Capomulin\n",
      "6     b128         30           40.605335                 1  Capomulin\n",
      "7     b128         35           37.967644                 1  Capomulin\n",
      "8     b128         40           38.379726                 2  Capomulin\n",
      "9     b128         45           38.982878                 2  Capomulin\n",
      "\n",
      "         Timepoint  Tumor Volume (mm3)  Metastatic Sites\n",
      "count  1906.000000         1906.000000       1906.000000\n",
      "mean     19.538300           50.468120          1.018363\n",
      "std      14.064786            8.869571          1.135991\n",
      "min       0.000000           22.050126          0.000000\n",
      "25%       5.000000           45.000000          0.000000\n",
      "50%      20.000000           48.991921          1.000000\n",
      "75%      30.000000           56.288484          2.000000\n",
      "max      45.000000           78.567014          4.000000\n",
      "\n",
      "Mouse ID               object\n",
      "Timepoint               int64\n",
      "Tumor Volume (mm3)    float64\n",
      "Metastatic Sites        int64\n",
      "Drug                   object\n",
      "dtype: object\n",
      "\n",
      "Mouse ID              1906\n",
      "Timepoint             1906\n",
      "Tumor Volume (mm3)    1906\n",
      "Metastatic Sites      1906\n",
      "Drug                  1906\n",
      "dtype: int64\n"
     ]
    }
   ],
   "source": [
    "# Merge the two dataframes and prints out summary statistics\n",
    "combined_df = pd.merge(trial_data_df, mouse_data_df, how='outer', on='Mouse ID')\n",
    "\n",
    "print(combined_df.head(10))\n",
    "print()\n",
    "print(combined_df.describe())\n",
    "print()\n",
    "print(combined_df.dtypes)\n",
    "print()\n",
    "print(combined_df.count())"
   ]
  }
 ],
 "metadata": {
  "kernelspec": {
   "display_name": "Python 3",
   "language": "python",
   "name": "python3"
  },
  "language_info": {
   "codemirror_mode": {
    "name": "ipython",
    "version": 3
   },
   "file_extension": ".py",
   "mimetype": "text/x-python",
   "name": "python",
   "nbconvert_exporter": "python",
   "pygments_lexer": "ipython3",
   "version": "3.6.3"
  }
 },
 "nbformat": 4,
 "nbformat_minor": 2
}
